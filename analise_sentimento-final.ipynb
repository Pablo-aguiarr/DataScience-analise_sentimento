{
 "cells": [
  {
   "cell_type": "markdown",
   "id": "1bb27ea7",
   "metadata": {},
   "source": [
    "#     Análise de sentimento no twitter - #GunControl\n",
    "### Autor: Pablo Aguiar Raposo [linkedin](https://www.linkedin.com/in/pablo-aguiar-raposo-71b6b5139/)\n",
    "### Data da captura dos tweets: 28/06/2022"
   ]
  },
  {
   "cell_type": "markdown",
   "id": "ca55c8d4",
   "metadata": {},
   "source": [
    "   Neste projeto farei uma análise de sentimento sobre o controle de armas nos Estados Unidos, por meio da hastag \"#GunControl\", captando tweets através da API do twitter.\n",
    "Minha análise seguirá os seguintes passos:\n",
    "\n",
    "- Limpeza do texto presentes nos tweets:\n",
    "\t. Eliminação de tweets duplicados;\n",
    "\t. Eliminação de caracteres como 'RT', e '@', que poluem os textos sem trazer informação relevante para a análise;\n",
    "\t. Conversão das letras para minúsculo;\n",
    "\t. Remoção de pontuação.\t \n",
    "- Classificação dos tweets em realaçao ao sentimento expresso;\n",
    "- Descoberta da proporção de tweets em cada sentimento;\n",
    "- Descoberta da quantidade de palavras médias presente nos tweets para cada sentimento;\n",
    "- Nova limpeza nos tweets para analizar as palavras presentes:\n",
    "    . Tokenização;\n",
    "    . Remoção de stopwords;\n",
    "    . Stemização.\n",
    "- Descoberta das palavras mais frequentes;\n",
    "- Uso do n-gram para descobrir as 'bigrams' e 'trigrams'. \n",
    "\n"
   ]
  },
  {
   "cell_type": "markdown",
   "id": "c8e1ca05",
   "metadata": {},
   "source": [
    "### Procedimentos iniciais"
   ]
  },
  {
   "cell_type": "code",
   "execution_count": 1,
   "id": "5d3ceed7",
   "metadata": {},
   "outputs": [],
   "source": [
    "# Palavra/frase a ser analisada e quantidade de tweets\n",
    "palavra = '#GunControl'\n",
    "ntweet = 50000"
   ]
  },
  {
   "cell_type": "code",
   "execution_count": 2,
   "id": "0ed78b8d",
   "metadata": {},
   "outputs": [],
   "source": [
    "# Importação de bibliotecas\n",
    "import warnings\n",
    "warnings.filterwarnings(\"ignore\")\n",
    "from textblob import TextBlob\n",
    "import sys\n",
    "import tweepy\n",
    "import matplotlib.pyplot as plt\n",
    "import pandas as pd\n",
    "import numpy as np\n",
    "import os\n",
    "import nltk\n",
    "import pycountry\n",
    "import re\n",
    "import string\n",
    "\n",
    "\n",
    "from PIL import Image\n",
    "from nltk.sentiment.vader import SentimentIntensityAnalyzer\n",
    "from langdetect import detect\n",
    "from nltk.stem import SnowballStemmer\n",
    "from nltk.sentiment.vader import SentimentIntensityAnalyzer\n",
    "from sklearn.feature_extraction.text import CountVectorizer\n",
    "import time"
   ]
  },
  {
   "cell_type": "code",
   "execution_count": 3,
   "id": "c558333f",
   "metadata": {},
   "outputs": [],
   "source": [
    "# autenticação ao twitter developers\n",
    "#obs: minhas chaves estão em um arquivo separado, para segurança.\n",
    "import apy\n",
    "auth = tweepy.OAuthHandler(apy.consumerKey, apy.consumerSecret)\n",
    "auth.set_access_token(apy.accessToken, apy.accessTokenSecret)\n",
    "api = tweepy.API(auth)"
   ]
  },
  {
   "cell_type": "code",
   "execution_count": 4,
   "id": "ad2cbb79",
   "metadata": {},
   "outputs": [],
   "source": [
    "# Coletando tweets\n",
    "tweets = tweepy.Cursor(api.search_tweets, q=palavra).items(ntweet)"
   ]
  },
  {
   "cell_type": "code",
   "execution_count": 5,
   "id": "0977f204",
   "metadata": {},
   "outputs": [],
   "source": [
    "# Colocando os tweets coletados em uma lista e transformando em um dataframe do Pandas\n",
    "lista_tweets = []\n",
    "for i in tweets:\n",
    "    lista_tweets.append(i.text)\n",
    "    time.sleep(2) #Necessário, pois no twitter developer só é possível capturar uma quantidade pequena de tweets a cada 15 minutos. \n",
    "lista_tweets = pd.DataFrame(lista_tweets)"
   ]
  },
  {
   "cell_type": "markdown",
   "id": "3d764024",
   "metadata": {},
   "source": [
    "## Tratando o texto nos tweets\n"
   ]
  },
  {
   "cell_type": "code",
   "execution_count": 6,
   "id": "b3803da1",
   "metadata": {},
   "outputs": [
    {
     "data": {
      "text/html": [
       "<div>\n",
       "<style scoped>\n",
       "    .dataframe tbody tr th:only-of-type {\n",
       "        vertical-align: middle;\n",
       "    }\n",
       "\n",
       "    .dataframe tbody tr th {\n",
       "        vertical-align: top;\n",
       "    }\n",
       "\n",
       "    .dataframe thead th {\n",
       "        text-align: right;\n",
       "    }\n",
       "</style>\n",
       "<table border=\"1\" class=\"dataframe\">\n",
       "  <thead>\n",
       "    <tr style=\"text-align: right;\">\n",
       "      <th></th>\n",
       "      <th>0</th>\n",
       "    </tr>\n",
       "  </thead>\n",
       "  <tbody>\n",
       "    <tr>\n",
       "      <th>1</th>\n",
       "      <td>RT @VoteBlueUSA2022: Trevor Noah serving truth.\\n\\n#Pride #RoeVsWade #GunControl https://t.co/7YNYmK4MFh</td>\n",
       "    </tr>\n",
       "    <tr>\n",
       "      <th>2</th>\n",
       "      <td>RT @TheLCPR: An Honest Conversation About Red Flag Laws and Potential #Government Abuses\\n\\n#RedFlag #2A #Congress #BidenAdmin #GunControl #r…</td>\n",
       "    </tr>\n",
       "    <tr>\n",
       "      <th>3</th>\n",
       "      <td>RT @VoteBlueUSA2022: Trevor Noah serving truth.\\n\\n#Pride #RoeVsWade #GunControl https://t.co/7YNYmK4MFh</td>\n",
       "    </tr>\n",
       "    <tr>\n",
       "      <th>4</th>\n",
       "      <td>RT @VoteBlueUSA2022: Trevor Noah serving truth.\\n\\n#Pride #RoeVsWade #GunControl https://t.co/7YNYmK4MFh</td>\n",
       "    </tr>\n",
       "    <tr>\n",
       "      <th>5</th>\n",
       "      <td>RT @VoteBlueUSA2022: Trevor Noah serving truth.\\n\\n#Pride #RoeVsWade #GunControl https://t.co/7YNYmK4MFh</td>\n",
       "    </tr>\n",
       "    <tr>\n",
       "      <th>6</th>\n",
       "      <td>RT @TheLCPR: An Honest Conversation About Red Flag Laws and Potential #Government Abuses\\n\\n#RedFlag #2A #Congress #BidenAdmin #GunControl #r…</td>\n",
       "    </tr>\n",
       "    <tr>\n",
       "      <th>7</th>\n",
       "      <td>RT @ArgonProd: An Honest Conversation About Red Flag Laws and Potential #Government Abuses\\n\\n#RedFlag #2A #Congress #BidenAdmin #GunControl…</td>\n",
       "    </tr>\n",
       "    <tr>\n",
       "      <th>8</th>\n",
       "      <td>An Honest Conversation About Red Flag Laws and Potential #Government Abuses\\n\\n#RedFlag #2A #Congress #BidenAdmin… https://t.co/wXO4GX8iyp</td>\n",
       "    </tr>\n",
       "    <tr>\n",
       "      <th>9</th>\n",
       "      <td>An Honest Conversation About Red Flag Laws and Potential #Government Abuses\\n\\n#RedFlag #2A #Congress #BidenAdmin… https://t.co/NyG5Lx1VRU</td>\n",
       "    </tr>\n",
       "  </tbody>\n",
       "</table>\n",
       "</div>"
      ],
      "text/plain": [
       "                                                                                                                                                0\n",
       "1                                        RT @VoteBlueUSA2022: Trevor Noah serving truth.\\n\\n#Pride #RoeVsWade #GunControl https://t.co/7YNYmK4MFh\n",
       "2  RT @TheLCPR: An Honest Conversation About Red Flag Laws and Potential #Government Abuses\\n\\n#RedFlag #2A #Congress #BidenAdmin #GunControl #r…\n",
       "3                                        RT @VoteBlueUSA2022: Trevor Noah serving truth.\\n\\n#Pride #RoeVsWade #GunControl https://t.co/7YNYmK4MFh\n",
       "4                                        RT @VoteBlueUSA2022: Trevor Noah serving truth.\\n\\n#Pride #RoeVsWade #GunControl https://t.co/7YNYmK4MFh\n",
       "5                                        RT @VoteBlueUSA2022: Trevor Noah serving truth.\\n\\n#Pride #RoeVsWade #GunControl https://t.co/7YNYmK4MFh\n",
       "6  RT @TheLCPR: An Honest Conversation About Red Flag Laws and Potential #Government Abuses\\n\\n#RedFlag #2A #Congress #BidenAdmin #GunControl #r…\n",
       "7   RT @ArgonProd: An Honest Conversation About Red Flag Laws and Potential #Government Abuses\\n\\n#RedFlag #2A #Congress #BidenAdmin #GunControl…\n",
       "8      An Honest Conversation About Red Flag Laws and Potential #Government Abuses\\n\\n#RedFlag #2A #Congress #BidenAdmin… https://t.co/wXO4GX8iyp\n",
       "9      An Honest Conversation About Red Flag Laws and Potential #Government Abuses\\n\\n#RedFlag #2A #Congress #BidenAdmin… https://t.co/NyG5Lx1VRU"
      ]
     },
     "execution_count": 6,
     "metadata": {},
     "output_type": "execute_result"
    }
   ],
   "source": [
    "# Imprimindo alguns elementos da lista de tweets para conferência\n",
    "pd.options.display.max_colwidth = 150\n",
    "lista_tweets[1:10]"
   ]
  },
  {
   "cell_type": "code",
   "execution_count": 7,
   "id": "c438e7d8",
   "metadata": {},
   "outputs": [
    {
     "name": "stdout",
     "output_type": "stream",
     "text": [
      " quantidade de tweets anteriormente: 13598\n",
      " quantidade de tweets únicos: 8218\n"
     ]
    }
   ],
   "source": [
    "# Primeiramente vamos eliminar possíveis tweets duplicados\n",
    "\n",
    "print(f' quantidade de tweets anteriormente: {len(lista_tweets)}')\n",
    "\n",
    "lista_tweets.drop_duplicates(inplace = True)\n",
    "\n",
    "print(f' quantidade de tweets únicos: {len(lista_tweets)}')"
   ]
  },
  {
   "cell_type": "code",
   "execution_count": 8,
   "id": "2ba7aac5",
   "metadata": {},
   "outputs": [
    {
     "data": {
      "text/html": [
       "<div>\n",
       "<style scoped>\n",
       "    .dataframe tbody tr th:only-of-type {\n",
       "        vertical-align: middle;\n",
       "    }\n",
       "\n",
       "    .dataframe tbody tr th {\n",
       "        vertical-align: top;\n",
       "    }\n",
       "\n",
       "    .dataframe thead th {\n",
       "        text-align: right;\n",
       "    }\n",
       "</style>\n",
       "<table border=\"1\" class=\"dataframe\">\n",
       "  <thead>\n",
       "    <tr style=\"text-align: right;\">\n",
       "      <th></th>\n",
       "      <th>0</th>\n",
       "      <th>texto</th>\n",
       "    </tr>\n",
       "  </thead>\n",
       "  <tbody>\n",
       "    <tr>\n",
       "      <th>0</th>\n",
       "      <td>RT @VoteBlueUSA2022: Trevor Noah serving truth.\\n\\n#Pride #RoeVsWade #GunControl https://t.co/7YNYmK4MFh</td>\n",
       "      <td>RT @VoteBlueUSA2022: Trevor Noah serving truth.\\n\\n#Pride #RoeVsWade #GunControl https://t.co/7YNYmK4MFh</td>\n",
       "    </tr>\n",
       "    <tr>\n",
       "      <th>2</th>\n",
       "      <td>RT @TheLCPR: An Honest Conversation About Red Flag Laws and Potential #Government Abuses\\n\\n#RedFlag #2A #Congress #BidenAdmin #GunControl #r…</td>\n",
       "      <td>RT @TheLCPR: An Honest Conversation About Red Flag Laws and Potential #Government Abuses\\n\\n#RedFlag #2A #Congress #BidenAdmin #GunControl #r…</td>\n",
       "    </tr>\n",
       "    <tr>\n",
       "      <th>7</th>\n",
       "      <td>RT @ArgonProd: An Honest Conversation About Red Flag Laws and Potential #Government Abuses\\n\\n#RedFlag #2A #Congress #BidenAdmin #GunControl…</td>\n",
       "      <td>RT @ArgonProd: An Honest Conversation About Red Flag Laws and Potential #Government Abuses\\n\\n#RedFlag #2A #Congress #BidenAdmin #GunControl…</td>\n",
       "    </tr>\n",
       "    <tr>\n",
       "      <th>8</th>\n",
       "      <td>An Honest Conversation About Red Flag Laws and Potential #Government Abuses\\n\\n#RedFlag #2A #Congress #BidenAdmin… https://t.co/wXO4GX8iyp</td>\n",
       "      <td>An Honest Conversation About Red Flag Laws and Potential #Government Abuses\\n\\n#RedFlag #2A #Congress #BidenAdmin… https://t.co/wXO4GX8iyp</td>\n",
       "    </tr>\n",
       "    <tr>\n",
       "      <th>9</th>\n",
       "      <td>An Honest Conversation About Red Flag Laws and Potential #Government Abuses\\n\\n#RedFlag #2A #Congress #BidenAdmin… https://t.co/NyG5Lx1VRU</td>\n",
       "      <td>An Honest Conversation About Red Flag Laws and Potential #Government Abuses\\n\\n#RedFlag #2A #Congress #BidenAdmin… https://t.co/NyG5Lx1VRU</td>\n",
       "    </tr>\n",
       "    <tr>\n",
       "      <th>11</th>\n",
       "      <td>RT @DameDonn: EP.47 OUT NOW‼️\\nDiscussing The Wade V. Roe Law, Gun Control, The Yellow Stone River Flood, Cescar Black Ink Crew &amp;amp; More \\n\\n#ye…</td>\n",
       "      <td>RT @DameDonn: EP.47 OUT NOW‼️\\nDiscussing The Wade V. Roe Law, Gun Control, The Yellow Stone River Flood, Cescar Black Ink Crew &amp;amp; More \\n\\n#ye…</td>\n",
       "    </tr>\n",
       "    <tr>\n",
       "      <th>12</th>\n",
       "      <td>@Jessicam6946 @Snowball1776 No doubt. Get your Vote on! Your voice matters. Do it for the 🌎 . Do it for your neighb… https://t.co/SZ6ROOKx5c</td>\n",
       "      <td>@Jessicam6946 @Snowball1776 No doubt. Get your Vote on! Your voice matters. Do it for the 🌎 . Do it for your neighb… https://t.co/SZ6ROOKx5c</td>\n",
       "    </tr>\n",
       "    <tr>\n",
       "      <th>13</th>\n",
       "      <td>Might get kicked off Twitter for this one. But does the US have a gun problem, or lack of respect for human life.… https://t.co/T8EsNCOcqq</td>\n",
       "      <td>Might get kicked off Twitter for this one. But does the US have a gun problem, or lack of respect for human life.… https://t.co/T8EsNCOcqq</td>\n",
       "    </tr>\n",
       "    <tr>\n",
       "      <th>14</th>\n",
       "      <td>Regulate guns not uteruses. #guncontrol</td>\n",
       "      <td>Regulate guns not uteruses. #guncontrol</td>\n",
       "    </tr>\n",
       "    <tr>\n",
       "      <th>15</th>\n",
       "      <td>Republicans vote against their own interests and those of their great grandchildren. Although don’t realize it, the… https://t.co/zHOauFE7u6</td>\n",
       "      <td>Republicans vote against their own interests and those of their great grandchildren. Although don’t realize it, the… https://t.co/zHOauFE7u6</td>\n",
       "    </tr>\n",
       "  </tbody>\n",
       "</table>\n",
       "</div>"
      ],
      "text/plain": [
       "                                                                                                                                                      0  \\\n",
       "0                                              RT @VoteBlueUSA2022: Trevor Noah serving truth.\\n\\n#Pride #RoeVsWade #GunControl https://t.co/7YNYmK4MFh   \n",
       "2        RT @TheLCPR: An Honest Conversation About Red Flag Laws and Potential #Government Abuses\\n\\n#RedFlag #2A #Congress #BidenAdmin #GunControl #r…   \n",
       "7         RT @ArgonProd: An Honest Conversation About Red Flag Laws and Potential #Government Abuses\\n\\n#RedFlag #2A #Congress #BidenAdmin #GunControl…   \n",
       "8            An Honest Conversation About Red Flag Laws and Potential #Government Abuses\\n\\n#RedFlag #2A #Congress #BidenAdmin… https://t.co/wXO4GX8iyp   \n",
       "9            An Honest Conversation About Red Flag Laws and Potential #Government Abuses\\n\\n#RedFlag #2A #Congress #BidenAdmin… https://t.co/NyG5Lx1VRU   \n",
       "11  RT @DameDonn: EP.47 OUT NOW‼️\\nDiscussing The Wade V. Roe Law, Gun Control, The Yellow Stone River Flood, Cescar Black Ink Crew &amp; More \\n\\n#ye…   \n",
       "12         @Jessicam6946 @Snowball1776 No doubt. Get your Vote on! Your voice matters. Do it for the 🌎 . Do it for your neighb… https://t.co/SZ6ROOKx5c   \n",
       "13           Might get kicked off Twitter for this one. But does the US have a gun problem, or lack of respect for human life.… https://t.co/T8EsNCOcqq   \n",
       "14                                                                                                              Regulate guns not uteruses. #guncontrol   \n",
       "15         Republicans vote against their own interests and those of their great grandchildren. Although don’t realize it, the… https://t.co/zHOauFE7u6   \n",
       "\n",
       "                                                                                                                                                  texto  \n",
       "0                                              RT @VoteBlueUSA2022: Trevor Noah serving truth.\\n\\n#Pride #RoeVsWade #GunControl https://t.co/7YNYmK4MFh  \n",
       "2        RT @TheLCPR: An Honest Conversation About Red Flag Laws and Potential #Government Abuses\\n\\n#RedFlag #2A #Congress #BidenAdmin #GunControl #r…  \n",
       "7         RT @ArgonProd: An Honest Conversation About Red Flag Laws and Potential #Government Abuses\\n\\n#RedFlag #2A #Congress #BidenAdmin #GunControl…  \n",
       "8            An Honest Conversation About Red Flag Laws and Potential #Government Abuses\\n\\n#RedFlag #2A #Congress #BidenAdmin… https://t.co/wXO4GX8iyp  \n",
       "9            An Honest Conversation About Red Flag Laws and Potential #Government Abuses\\n\\n#RedFlag #2A #Congress #BidenAdmin… https://t.co/NyG5Lx1VRU  \n",
       "11  RT @DameDonn: EP.47 OUT NOW‼️\\nDiscussing The Wade V. Roe Law, Gun Control, The Yellow Stone River Flood, Cescar Black Ink Crew &amp; More \\n\\n#ye…  \n",
       "12         @Jessicam6946 @Snowball1776 No doubt. Get your Vote on! Your voice matters. Do it for the 🌎 . Do it for your neighb… https://t.co/SZ6ROOKx5c  \n",
       "13           Might get kicked off Twitter for this one. But does the US have a gun problem, or lack of respect for human life.… https://t.co/T8EsNCOcqq  \n",
       "14                                                                                                              Regulate guns not uteruses. #guncontrol  \n",
       "15         Republicans vote against their own interests and those of their great grandchildren. Although don’t realize it, the… https://t.co/zHOauFE7u6  "
      ]
     },
     "execution_count": 8,
     "metadata": {},
     "output_type": "execute_result"
    }
   ],
   "source": [
    "# Criando uma nova variável('texto') - para fazer o tratamento do texto nessa variável\n",
    "\n",
    "lista_tweets['texto'] = lista_tweets[0]\n",
    "lista_tweets.head(10)"
   ]
  },
  {
   "cell_type": "code",
   "execution_count": 9,
   "id": "bde15e33",
   "metadata": {},
   "outputs": [
    {
     "data": {
      "text/html": [
       "<div>\n",
       "<style scoped>\n",
       "    .dataframe tbody tr th:only-of-type {\n",
       "        vertical-align: middle;\n",
       "    }\n",
       "\n",
       "    .dataframe tbody tr th {\n",
       "        vertical-align: top;\n",
       "    }\n",
       "\n",
       "    .dataframe thead th {\n",
       "        text-align: right;\n",
       "    }\n",
       "</style>\n",
       "<table border=\"1\" class=\"dataframe\">\n",
       "  <thead>\n",
       "    <tr style=\"text-align: right;\">\n",
       "      <th></th>\n",
       "      <th>0</th>\n",
       "      <th>texto</th>\n",
       "      <th>txt_limpo</th>\n",
       "    </tr>\n",
       "  </thead>\n",
       "  <tbody>\n",
       "    <tr>\n",
       "      <th>0</th>\n",
       "      <td>RT @VoteBlueUSA2022: Trevor Noah serving truth.\\n\\n#Pride #RoeVsWade #GunControl https://t.co/7YNYmK4MFh</td>\n",
       "      <td>RT @VoteBlueUSA2022: Trevor Noah serving truth.\\n\\n#Pride #RoeVsWade #GunControl https://t.co/7YNYmK4MFh</td>\n",
       "      <td>Trevor Noah serving truth.\\n\\n#Pride #RoeVsWade #GunControl https://t.co/7YNYmK4MFh</td>\n",
       "    </tr>\n",
       "    <tr>\n",
       "      <th>2</th>\n",
       "      <td>RT @TheLCPR: An Honest Conversation About Red Flag Laws and Potential #Government Abuses\\n\\n#RedFlag #2A #Congress #BidenAdmin #GunControl #r…</td>\n",
       "      <td>RT @TheLCPR: An Honest Conversation About Red Flag Laws and Potential #Government Abuses\\n\\n#RedFlag #2A #Congress #BidenAdmin #GunControl #r…</td>\n",
       "      <td>An Honest Conversation About Red Flag Laws and Potential #Government Abuses\\n\\n#RedFlag #2A #Congress #BidenAdmin #GunControl #r…</td>\n",
       "    </tr>\n",
       "    <tr>\n",
       "      <th>7</th>\n",
       "      <td>RT @ArgonProd: An Honest Conversation About Red Flag Laws and Potential #Government Abuses\\n\\n#RedFlag #2A #Congress #BidenAdmin #GunControl…</td>\n",
       "      <td>RT @ArgonProd: An Honest Conversation About Red Flag Laws and Potential #Government Abuses\\n\\n#RedFlag #2A #Congress #BidenAdmin #GunControl…</td>\n",
       "      <td>An Honest Conversation About Red Flag Laws and Potential #Government Abuses\\n\\n#RedFlag #2A #Congress #BidenAdmin #GunControl…</td>\n",
       "    </tr>\n",
       "    <tr>\n",
       "      <th>8</th>\n",
       "      <td>An Honest Conversation About Red Flag Laws and Potential #Government Abuses\\n\\n#RedFlag #2A #Congress #BidenAdmin… https://t.co/wXO4GX8iyp</td>\n",
       "      <td>An Honest Conversation About Red Flag Laws and Potential #Government Abuses\\n\\n#RedFlag #2A #Congress #BidenAdmin… https://t.co/wXO4GX8iyp</td>\n",
       "      <td>An Honest Conversation About Red Flag Laws and Potential #Government Abuses\\n\\n#RedFlag #2A #Congress #BidenAdmin… https://t.co/wXO4GX8iyp</td>\n",
       "    </tr>\n",
       "    <tr>\n",
       "      <th>9</th>\n",
       "      <td>An Honest Conversation About Red Flag Laws and Potential #Government Abuses\\n\\n#RedFlag #2A #Congress #BidenAdmin… https://t.co/NyG5Lx1VRU</td>\n",
       "      <td>An Honest Conversation About Red Flag Laws and Potential #Government Abuses\\n\\n#RedFlag #2A #Congress #BidenAdmin… https://t.co/NyG5Lx1VRU</td>\n",
       "      <td>An Honest Conversation About Red Flag Laws and Potential #Government Abuses\\n\\n#RedFlag #2A #Congress #BidenAdmin… https://t.co/NyG5Lx1VRU</td>\n",
       "    </tr>\n",
       "  </tbody>\n",
       "</table>\n",
       "</div>"
      ],
      "text/plain": [
       "                                                                                                                                                0  \\\n",
       "0                                        RT @VoteBlueUSA2022: Trevor Noah serving truth.\\n\\n#Pride #RoeVsWade #GunControl https://t.co/7YNYmK4MFh   \n",
       "2  RT @TheLCPR: An Honest Conversation About Red Flag Laws and Potential #Government Abuses\\n\\n#RedFlag #2A #Congress #BidenAdmin #GunControl #r…   \n",
       "7   RT @ArgonProd: An Honest Conversation About Red Flag Laws and Potential #Government Abuses\\n\\n#RedFlag #2A #Congress #BidenAdmin #GunControl…   \n",
       "8      An Honest Conversation About Red Flag Laws and Potential #Government Abuses\\n\\n#RedFlag #2A #Congress #BidenAdmin… https://t.co/wXO4GX8iyp   \n",
       "9      An Honest Conversation About Red Flag Laws and Potential #Government Abuses\\n\\n#RedFlag #2A #Congress #BidenAdmin… https://t.co/NyG5Lx1VRU   \n",
       "\n",
       "                                                                                                                                            texto  \\\n",
       "0                                        RT @VoteBlueUSA2022: Trevor Noah serving truth.\\n\\n#Pride #RoeVsWade #GunControl https://t.co/7YNYmK4MFh   \n",
       "2  RT @TheLCPR: An Honest Conversation About Red Flag Laws and Potential #Government Abuses\\n\\n#RedFlag #2A #Congress #BidenAdmin #GunControl #r…   \n",
       "7   RT @ArgonProd: An Honest Conversation About Red Flag Laws and Potential #Government Abuses\\n\\n#RedFlag #2A #Congress #BidenAdmin #GunControl…   \n",
       "8      An Honest Conversation About Red Flag Laws and Potential #Government Abuses\\n\\n#RedFlag #2A #Congress #BidenAdmin… https://t.co/wXO4GX8iyp   \n",
       "9      An Honest Conversation About Red Flag Laws and Potential #Government Abuses\\n\\n#RedFlag #2A #Congress #BidenAdmin… https://t.co/NyG5Lx1VRU   \n",
       "\n",
       "                                                                                                                                    txt_limpo  \n",
       "0                                                         Trevor Noah serving truth.\\n\\n#Pride #RoeVsWade #GunControl https://t.co/7YNYmK4MFh  \n",
       "2           An Honest Conversation About Red Flag Laws and Potential #Government Abuses\\n\\n#RedFlag #2A #Congress #BidenAdmin #GunControl #r…  \n",
       "7              An Honest Conversation About Red Flag Laws and Potential #Government Abuses\\n\\n#RedFlag #2A #Congress #BidenAdmin #GunControl…  \n",
       "8  An Honest Conversation About Red Flag Laws and Potential #Government Abuses\\n\\n#RedFlag #2A #Congress #BidenAdmin… https://t.co/wXO4GX8iyp  \n",
       "9  An Honest Conversation About Red Flag Laws and Potential #Government Abuses\\n\\n#RedFlag #2A #Congress #BidenAdmin… https://t.co/NyG5Lx1VRU  "
      ]
     },
     "execution_count": 9,
     "metadata": {},
     "output_type": "execute_result"
    }
   ],
   "source": [
    "#Removendo as letras'RT' e'@', que aparecem no início de vários tweets \n",
    "remove_rt = lambda x: re.sub('RT @\\w+: ',' ',x)\n",
    "lista_tweets['txt_limpo'] = lista_tweets['texto'].map(remove_rt)\n",
    "lista_tweets.head(5)\n"
   ]
  },
  {
   "cell_type": "code",
   "execution_count": 10,
   "id": "03395487",
   "metadata": {},
   "outputs": [
    {
     "data": {
      "text/html": [
       "<div>\n",
       "<style scoped>\n",
       "    .dataframe tbody tr th:only-of-type {\n",
       "        vertical-align: middle;\n",
       "    }\n",
       "\n",
       "    .dataframe tbody tr th {\n",
       "        vertical-align: top;\n",
       "    }\n",
       "\n",
       "    .dataframe thead th {\n",
       "        text-align: right;\n",
       "    }\n",
       "</style>\n",
       "<table border=\"1\" class=\"dataframe\">\n",
       "  <thead>\n",
       "    <tr style=\"text-align: right;\">\n",
       "      <th></th>\n",
       "      <th>0</th>\n",
       "      <th>texto</th>\n",
       "      <th>txt_limpo</th>\n",
       "    </tr>\n",
       "  </thead>\n",
       "  <tbody>\n",
       "    <tr>\n",
       "      <th>0</th>\n",
       "      <td>RT @VoteBlueUSA2022: Trevor Noah serving truth.\\n\\n#Pride #RoeVsWade #GunControl https://t.co/7YNYmK4MFh</td>\n",
       "      <td>RT @VoteBlueUSA2022: Trevor Noah serving truth.\\n\\n#Pride #RoeVsWade #GunControl https://t.co/7YNYmK4MFh</td>\n",
       "      <td>trevor noah serving truth.\\n\\n#pride #roevswade #guncontrol https://t.co/7ynymk4mfh</td>\n",
       "    </tr>\n",
       "    <tr>\n",
       "      <th>2</th>\n",
       "      <td>RT @TheLCPR: An Honest Conversation About Red Flag Laws and Potential #Government Abuses\\n\\n#RedFlag #2A #Congress #BidenAdmin #GunControl #r…</td>\n",
       "      <td>RT @TheLCPR: An Honest Conversation About Red Flag Laws and Potential #Government Abuses\\n\\n#RedFlag #2A #Congress #BidenAdmin #GunControl #r…</td>\n",
       "      <td>an honest conversation about red flag laws and potential #government abuses\\n\\n#redflag #2a #congress #bidenadmin #guncontrol #r…</td>\n",
       "    </tr>\n",
       "    <tr>\n",
       "      <th>7</th>\n",
       "      <td>RT @ArgonProd: An Honest Conversation About Red Flag Laws and Potential #Government Abuses\\n\\n#RedFlag #2A #Congress #BidenAdmin #GunControl…</td>\n",
       "      <td>RT @ArgonProd: An Honest Conversation About Red Flag Laws and Potential #Government Abuses\\n\\n#RedFlag #2A #Congress #BidenAdmin #GunControl…</td>\n",
       "      <td>an honest conversation about red flag laws and potential #government abuses\\n\\n#redflag #2a #congress #bidenadmin #guncontrol…</td>\n",
       "    </tr>\n",
       "    <tr>\n",
       "      <th>8</th>\n",
       "      <td>An Honest Conversation About Red Flag Laws and Potential #Government Abuses\\n\\n#RedFlag #2A #Congress #BidenAdmin… https://t.co/wXO4GX8iyp</td>\n",
       "      <td>An Honest Conversation About Red Flag Laws and Potential #Government Abuses\\n\\n#RedFlag #2A #Congress #BidenAdmin… https://t.co/wXO4GX8iyp</td>\n",
       "      <td>an honest conversation about red flag laws and potential #government abuses\\n\\n#redflag #2a #congress #bidenadmin… https://t.co/wxo4gx8iyp</td>\n",
       "    </tr>\n",
       "    <tr>\n",
       "      <th>9</th>\n",
       "      <td>An Honest Conversation About Red Flag Laws and Potential #Government Abuses\\n\\n#RedFlag #2A #Congress #BidenAdmin… https://t.co/NyG5Lx1VRU</td>\n",
       "      <td>An Honest Conversation About Red Flag Laws and Potential #Government Abuses\\n\\n#RedFlag #2A #Congress #BidenAdmin… https://t.co/NyG5Lx1VRU</td>\n",
       "      <td>an honest conversation about red flag laws and potential #government abuses\\n\\n#redflag #2a #congress #bidenadmin… https://t.co/nyg5lx1vru</td>\n",
       "    </tr>\n",
       "  </tbody>\n",
       "</table>\n",
       "</div>"
      ],
      "text/plain": [
       "                                                                                                                                                0  \\\n",
       "0                                        RT @VoteBlueUSA2022: Trevor Noah serving truth.\\n\\n#Pride #RoeVsWade #GunControl https://t.co/7YNYmK4MFh   \n",
       "2  RT @TheLCPR: An Honest Conversation About Red Flag Laws and Potential #Government Abuses\\n\\n#RedFlag #2A #Congress #BidenAdmin #GunControl #r…   \n",
       "7   RT @ArgonProd: An Honest Conversation About Red Flag Laws and Potential #Government Abuses\\n\\n#RedFlag #2A #Congress #BidenAdmin #GunControl…   \n",
       "8      An Honest Conversation About Red Flag Laws and Potential #Government Abuses\\n\\n#RedFlag #2A #Congress #BidenAdmin… https://t.co/wXO4GX8iyp   \n",
       "9      An Honest Conversation About Red Flag Laws and Potential #Government Abuses\\n\\n#RedFlag #2A #Congress #BidenAdmin… https://t.co/NyG5Lx1VRU   \n",
       "\n",
       "                                                                                                                                            texto  \\\n",
       "0                                        RT @VoteBlueUSA2022: Trevor Noah serving truth.\\n\\n#Pride #RoeVsWade #GunControl https://t.co/7YNYmK4MFh   \n",
       "2  RT @TheLCPR: An Honest Conversation About Red Flag Laws and Potential #Government Abuses\\n\\n#RedFlag #2A #Congress #BidenAdmin #GunControl #r…   \n",
       "7   RT @ArgonProd: An Honest Conversation About Red Flag Laws and Potential #Government Abuses\\n\\n#RedFlag #2A #Congress #BidenAdmin #GunControl…   \n",
       "8      An Honest Conversation About Red Flag Laws and Potential #Government Abuses\\n\\n#RedFlag #2A #Congress #BidenAdmin… https://t.co/wXO4GX8iyp   \n",
       "9      An Honest Conversation About Red Flag Laws and Potential #Government Abuses\\n\\n#RedFlag #2A #Congress #BidenAdmin… https://t.co/NyG5Lx1VRU   \n",
       "\n",
       "                                                                                                                                    txt_limpo  \n",
       "0                                                         trevor noah serving truth.\\n\\n#pride #roevswade #guncontrol https://t.co/7ynymk4mfh  \n",
       "2           an honest conversation about red flag laws and potential #government abuses\\n\\n#redflag #2a #congress #bidenadmin #guncontrol #r…  \n",
       "7              an honest conversation about red flag laws and potential #government abuses\\n\\n#redflag #2a #congress #bidenadmin #guncontrol…  \n",
       "8  an honest conversation about red flag laws and potential #government abuses\\n\\n#redflag #2a #congress #bidenadmin… https://t.co/wxo4gx8iyp  \n",
       "9  an honest conversation about red flag laws and potential #government abuses\\n\\n#redflag #2a #congress #bidenadmin… https://t.co/nyg5lx1vru  "
      ]
     },
     "execution_count": 10,
     "metadata": {},
     "output_type": "execute_result"
    }
   ],
   "source": [
    "# Convertendo todas as letras para minúsculo\n",
    "lista_tweets['txt_limpo'] = lista_tweets['txt_limpo'].str.lower()\n",
    "lista_tweets.head(5)"
   ]
  },
  {
   "cell_type": "code",
   "execution_count": 11,
   "id": "6fde9cb8",
   "metadata": {},
   "outputs": [],
   "source": [
    "# Removendo pontuação\n",
    "## Função para remover pontuação e dígitos\n",
    "def remove_pont(text):\n",
    " text = \"\".join([i for i in text if i not in string.punctuation])\n",
    " text = re.sub('[0–9]+', '', text)\n",
    " return text"
   ]
  },
  {
   "cell_type": "code",
   "execution_count": 12,
   "id": "7321f425",
   "metadata": {},
   "outputs": [
    {
     "data": {
      "text/plain": [
       "0                                                          trevor noah serving truth\\n\\npride roevswade guncontrol httpstco7ynymk4mfh\n",
       "2          an honest conversation about red flag laws and potential government abuses\\n\\nredflag 2a congress bidenadmin guncontrol r…\n",
       "7            an honest conversation about red flag laws and potential government abuses\\n\\nredflag 2a congress bidenadmin guncontrol…\n",
       "8    an honest conversation about red flag laws and potential government abuses\\n\\nredflag 2a congress bidenadmin… httpstcowxo4gx8iyp\n",
       "9    an honest conversation about red flag laws and potential government abuses\\n\\nredflag 2a congress bidenadmin… httpstconyg5lx1vru\n",
       "Name: txt_limpo, dtype: object"
      ]
     },
     "execution_count": 12,
     "metadata": {},
     "output_type": "execute_result"
    }
   ],
   "source": [
    "## Aplicando a função\n",
    "lista_tweets['txt_limpo'] = lista_tweets['txt_limpo'].apply(lambda x: remove_pont(x))\n",
    "lista_tweets.txt_limpo.head(5)"
   ]
  },
  {
   "cell_type": "code",
   "execution_count": 13,
   "id": "f1cdabbb",
   "metadata": {
    "scrolled": true
   },
   "outputs": [
    {
     "data": {
      "text/html": [
       "<div>\n",
       "<style scoped>\n",
       "    .dataframe tbody tr th:only-of-type {\n",
       "        vertical-align: middle;\n",
       "    }\n",
       "\n",
       "    .dataframe tbody tr th {\n",
       "        vertical-align: top;\n",
       "    }\n",
       "\n",
       "    .dataframe thead th {\n",
       "        text-align: right;\n",
       "    }\n",
       "</style>\n",
       "<table border=\"1\" class=\"dataframe\">\n",
       "  <thead>\n",
       "    <tr style=\"text-align: right;\">\n",
       "      <th></th>\n",
       "      <th>0</th>\n",
       "      <th>texto</th>\n",
       "      <th>txt_limpo</th>\n",
       "    </tr>\n",
       "  </thead>\n",
       "  <tbody>\n",
       "    <tr>\n",
       "      <th>0</th>\n",
       "      <td>RT @VoteBlueUSA2022: Trevor Noah serving truth.\\n\\n#Pride #RoeVsWade #GunControl https://t.co/7YNYmK4MFh</td>\n",
       "      <td>RT @VoteBlueUSA2022: Trevor Noah serving truth.\\n\\n#Pride #RoeVsWade #GunControl https://t.co/7YNYmK4MFh</td>\n",
       "      <td>trevor noah serving truth\\n\\npride roevswade guncontrol httpstco7ynymk4mfh</td>\n",
       "    </tr>\n",
       "    <tr>\n",
       "      <th>2</th>\n",
       "      <td>RT @TheLCPR: An Honest Conversation About Red Flag Laws and Potential #Government Abuses\\n\\n#RedFlag #2A #Congress #BidenAdmin #GunControl #r…</td>\n",
       "      <td>RT @TheLCPR: An Honest Conversation About Red Flag Laws and Potential #Government Abuses\\n\\n#RedFlag #2A #Congress #BidenAdmin #GunControl #r…</td>\n",
       "      <td>an honest conversation about red flag laws and potential government abuses\\n\\nredflag 2a congress bidenadmin guncontrol r…</td>\n",
       "    </tr>\n",
       "    <tr>\n",
       "      <th>7</th>\n",
       "      <td>RT @ArgonProd: An Honest Conversation About Red Flag Laws and Potential #Government Abuses\\n\\n#RedFlag #2A #Congress #BidenAdmin #GunControl…</td>\n",
       "      <td>RT @ArgonProd: An Honest Conversation About Red Flag Laws and Potential #Government Abuses\\n\\n#RedFlag #2A #Congress #BidenAdmin #GunControl…</td>\n",
       "      <td>an honest conversation about red flag laws and potential government abuses\\n\\nredflag 2a congress bidenadmin guncontrol…</td>\n",
       "    </tr>\n",
       "    <tr>\n",
       "      <th>8</th>\n",
       "      <td>An Honest Conversation About Red Flag Laws and Potential #Government Abuses\\n\\n#RedFlag #2A #Congress #BidenAdmin… https://t.co/wXO4GX8iyp</td>\n",
       "      <td>An Honest Conversation About Red Flag Laws and Potential #Government Abuses\\n\\n#RedFlag #2A #Congress #BidenAdmin… https://t.co/wXO4GX8iyp</td>\n",
       "      <td>an honest conversation about red flag laws and potential government abuses\\n\\nredflag 2a congress bidenadmin… httpstcowxo4gx8iyp</td>\n",
       "    </tr>\n",
       "    <tr>\n",
       "      <th>9</th>\n",
       "      <td>An Honest Conversation About Red Flag Laws and Potential #Government Abuses\\n\\n#RedFlag #2A #Congress #BidenAdmin… https://t.co/NyG5Lx1VRU</td>\n",
       "      <td>An Honest Conversation About Red Flag Laws and Potential #Government Abuses\\n\\n#RedFlag #2A #Congress #BidenAdmin… https://t.co/NyG5Lx1VRU</td>\n",
       "      <td>an honest conversation about red flag laws and potential government abuses\\n\\nredflag 2a congress bidenadmin… httpstconyg5lx1vru</td>\n",
       "    </tr>\n",
       "  </tbody>\n",
       "</table>\n",
       "</div>"
      ],
      "text/plain": [
       "                                                                                                                                                0  \\\n",
       "0                                        RT @VoteBlueUSA2022: Trevor Noah serving truth.\\n\\n#Pride #RoeVsWade #GunControl https://t.co/7YNYmK4MFh   \n",
       "2  RT @TheLCPR: An Honest Conversation About Red Flag Laws and Potential #Government Abuses\\n\\n#RedFlag #2A #Congress #BidenAdmin #GunControl #r…   \n",
       "7   RT @ArgonProd: An Honest Conversation About Red Flag Laws and Potential #Government Abuses\\n\\n#RedFlag #2A #Congress #BidenAdmin #GunControl…   \n",
       "8      An Honest Conversation About Red Flag Laws and Potential #Government Abuses\\n\\n#RedFlag #2A #Congress #BidenAdmin… https://t.co/wXO4GX8iyp   \n",
       "9      An Honest Conversation About Red Flag Laws and Potential #Government Abuses\\n\\n#RedFlag #2A #Congress #BidenAdmin… https://t.co/NyG5Lx1VRU   \n",
       "\n",
       "                                                                                                                                            texto  \\\n",
       "0                                        RT @VoteBlueUSA2022: Trevor Noah serving truth.\\n\\n#Pride #RoeVsWade #GunControl https://t.co/7YNYmK4MFh   \n",
       "2  RT @TheLCPR: An Honest Conversation About Red Flag Laws and Potential #Government Abuses\\n\\n#RedFlag #2A #Congress #BidenAdmin #GunControl #r…   \n",
       "7   RT @ArgonProd: An Honest Conversation About Red Flag Laws and Potential #Government Abuses\\n\\n#RedFlag #2A #Congress #BidenAdmin #GunControl…   \n",
       "8      An Honest Conversation About Red Flag Laws and Potential #Government Abuses\\n\\n#RedFlag #2A #Congress #BidenAdmin… https://t.co/wXO4GX8iyp   \n",
       "9      An Honest Conversation About Red Flag Laws and Potential #Government Abuses\\n\\n#RedFlag #2A #Congress #BidenAdmin… https://t.co/NyG5Lx1VRU   \n",
       "\n",
       "                                                                                                                          txt_limpo  \n",
       "0                                                        trevor noah serving truth\\n\\npride roevswade guncontrol httpstco7ynymk4mfh  \n",
       "2        an honest conversation about red flag laws and potential government abuses\\n\\nredflag 2a congress bidenadmin guncontrol r…  \n",
       "7          an honest conversation about red flag laws and potential government abuses\\n\\nredflag 2a congress bidenadmin guncontrol…  \n",
       "8  an honest conversation about red flag laws and potential government abuses\\n\\nredflag 2a congress bidenadmin… httpstcowxo4gx8iyp  \n",
       "9  an honest conversation about red flag laws and potential government abuses\\n\\nredflag 2a congress bidenadmin… httpstconyg5lx1vru  "
      ]
     },
     "execution_count": 13,
     "metadata": {},
     "output_type": "execute_result"
    }
   ],
   "source": [
    "# Checando como ficou o texto tratado\n",
    "lista_tweets.head()"
   ]
  },
  {
   "cell_type": "code",
   "execution_count": 14,
   "id": "38f869e4",
   "metadata": {},
   "outputs": [
    {
     "data": {
      "text/html": [
       "<div>\n",
       "<style scoped>\n",
       "    .dataframe tbody tr th:only-of-type {\n",
       "        vertical-align: middle;\n",
       "    }\n",
       "\n",
       "    .dataframe tbody tr th {\n",
       "        vertical-align: top;\n",
       "    }\n",
       "\n",
       "    .dataframe thead th {\n",
       "        text-align: right;\n",
       "    }\n",
       "</style>\n",
       "<table border=\"1\" class=\"dataframe\">\n",
       "  <thead>\n",
       "    <tr style=\"text-align: right;\">\n",
       "      <th></th>\n",
       "      <th>0</th>\n",
       "      <th>texto</th>\n",
       "      <th>txt_limpo</th>\n",
       "      <th>polaridade</th>\n",
       "      <th>subjetividade</th>\n",
       "    </tr>\n",
       "  </thead>\n",
       "  <tbody>\n",
       "    <tr>\n",
       "      <th>0</th>\n",
       "      <td>RT @VoteBlueUSA2022: Trevor Noah serving truth.\\n\\n#Pride #RoeVsWade #GunControl https://t.co/7YNYmK4MFh</td>\n",
       "      <td>RT @VoteBlueUSA2022: Trevor Noah serving truth.\\n\\n#Pride #RoeVsWade #GunControl https://t.co/7YNYmK4MFh</td>\n",
       "      <td>trevor noah serving truth\\n\\npride roevswade guncontrol httpstco7ynymk4mfh</td>\n",
       "      <td>0.0</td>\n",
       "      <td>0.000000</td>\n",
       "    </tr>\n",
       "    <tr>\n",
       "      <th>2</th>\n",
       "      <td>RT @TheLCPR: An Honest Conversation About Red Flag Laws and Potential #Government Abuses\\n\\n#RedFlag #2A #Congress #BidenAdmin #GunControl #r…</td>\n",
       "      <td>RT @TheLCPR: An Honest Conversation About Red Flag Laws and Potential #Government Abuses\\n\\n#RedFlag #2A #Congress #BidenAdmin #GunControl #r…</td>\n",
       "      <td>an honest conversation about red flag laws and potential government abuses\\n\\nredflag 2a congress bidenadmin guncontrol r…</td>\n",
       "      <td>0.2</td>\n",
       "      <td>0.633333</td>\n",
       "    </tr>\n",
       "    <tr>\n",
       "      <th>7</th>\n",
       "      <td>RT @ArgonProd: An Honest Conversation About Red Flag Laws and Potential #Government Abuses\\n\\n#RedFlag #2A #Congress #BidenAdmin #GunControl…</td>\n",
       "      <td>RT @ArgonProd: An Honest Conversation About Red Flag Laws and Potential #Government Abuses\\n\\n#RedFlag #2A #Congress #BidenAdmin #GunControl…</td>\n",
       "      <td>an honest conversation about red flag laws and potential government abuses\\n\\nredflag 2a congress bidenadmin guncontrol…</td>\n",
       "      <td>0.2</td>\n",
       "      <td>0.633333</td>\n",
       "    </tr>\n",
       "    <tr>\n",
       "      <th>8</th>\n",
       "      <td>An Honest Conversation About Red Flag Laws and Potential #Government Abuses\\n\\n#RedFlag #2A #Congress #BidenAdmin… https://t.co/wXO4GX8iyp</td>\n",
       "      <td>An Honest Conversation About Red Flag Laws and Potential #Government Abuses\\n\\n#RedFlag #2A #Congress #BidenAdmin… https://t.co/wXO4GX8iyp</td>\n",
       "      <td>an honest conversation about red flag laws and potential government abuses\\n\\nredflag 2a congress bidenadmin… httpstcowxo4gx8iyp</td>\n",
       "      <td>0.2</td>\n",
       "      <td>0.633333</td>\n",
       "    </tr>\n",
       "    <tr>\n",
       "      <th>9</th>\n",
       "      <td>An Honest Conversation About Red Flag Laws and Potential #Government Abuses\\n\\n#RedFlag #2A #Congress #BidenAdmin… https://t.co/NyG5Lx1VRU</td>\n",
       "      <td>An Honest Conversation About Red Flag Laws and Potential #Government Abuses\\n\\n#RedFlag #2A #Congress #BidenAdmin… https://t.co/NyG5Lx1VRU</td>\n",
       "      <td>an honest conversation about red flag laws and potential government abuses\\n\\nredflag 2a congress bidenadmin… httpstconyg5lx1vru</td>\n",
       "      <td>0.2</td>\n",
       "      <td>0.633333</td>\n",
       "    </tr>\n",
       "  </tbody>\n",
       "</table>\n",
       "</div>"
      ],
      "text/plain": [
       "                                                                                                                                                0  \\\n",
       "0                                        RT @VoteBlueUSA2022: Trevor Noah serving truth.\\n\\n#Pride #RoeVsWade #GunControl https://t.co/7YNYmK4MFh   \n",
       "2  RT @TheLCPR: An Honest Conversation About Red Flag Laws and Potential #Government Abuses\\n\\n#RedFlag #2A #Congress #BidenAdmin #GunControl #r…   \n",
       "7   RT @ArgonProd: An Honest Conversation About Red Flag Laws and Potential #Government Abuses\\n\\n#RedFlag #2A #Congress #BidenAdmin #GunControl…   \n",
       "8      An Honest Conversation About Red Flag Laws and Potential #Government Abuses\\n\\n#RedFlag #2A #Congress #BidenAdmin… https://t.co/wXO4GX8iyp   \n",
       "9      An Honest Conversation About Red Flag Laws and Potential #Government Abuses\\n\\n#RedFlag #2A #Congress #BidenAdmin… https://t.co/NyG5Lx1VRU   \n",
       "\n",
       "                                                                                                                                            texto  \\\n",
       "0                                        RT @VoteBlueUSA2022: Trevor Noah serving truth.\\n\\n#Pride #RoeVsWade #GunControl https://t.co/7YNYmK4MFh   \n",
       "2  RT @TheLCPR: An Honest Conversation About Red Flag Laws and Potential #Government Abuses\\n\\n#RedFlag #2A #Congress #BidenAdmin #GunControl #r…   \n",
       "7   RT @ArgonProd: An Honest Conversation About Red Flag Laws and Potential #Government Abuses\\n\\n#RedFlag #2A #Congress #BidenAdmin #GunControl…   \n",
       "8      An Honest Conversation About Red Flag Laws and Potential #Government Abuses\\n\\n#RedFlag #2A #Congress #BidenAdmin… https://t.co/wXO4GX8iyp   \n",
       "9      An Honest Conversation About Red Flag Laws and Potential #Government Abuses\\n\\n#RedFlag #2A #Congress #BidenAdmin… https://t.co/NyG5Lx1VRU   \n",
       "\n",
       "                                                                                                                          txt_limpo  \\\n",
       "0                                                        trevor noah serving truth\\n\\npride roevswade guncontrol httpstco7ynymk4mfh   \n",
       "2        an honest conversation about red flag laws and potential government abuses\\n\\nredflag 2a congress bidenadmin guncontrol r…   \n",
       "7          an honest conversation about red flag laws and potential government abuses\\n\\nredflag 2a congress bidenadmin guncontrol…   \n",
       "8  an honest conversation about red flag laws and potential government abuses\\n\\nredflag 2a congress bidenadmin… httpstcowxo4gx8iyp   \n",
       "9  an honest conversation about red flag laws and potential government abuses\\n\\nredflag 2a congress bidenadmin… httpstconyg5lx1vru   \n",
       "\n",
       "   polaridade  subjetividade  \n",
       "0         0.0       0.000000  \n",
       "2         0.2       0.633333  \n",
       "7         0.2       0.633333  \n",
       "8         0.2       0.633333  \n",
       "9         0.2       0.633333  "
      ]
     },
     "execution_count": 14,
     "metadata": {},
     "output_type": "execute_result"
    }
   ],
   "source": [
    "# Criando as variáveis 'polaridade' e 'subjetividade' com o TextBlob, que usaremos para fazer a análise de sentimentos\n",
    "\n",
    "lista_tweets[['polaridade', 'subjetividade']] = lista_tweets['txt_limpo'].apply(lambda x: pd.Series(TextBlob(x).sentiment))\n",
    "lista_tweets.head()"
   ]
  },
  {
   "cell_type": "code",
   "execution_count": 15,
   "id": "e589fd96",
   "metadata": {},
   "outputs": [],
   "source": [
    "# Dividindo os tweets pelo sentimento que os representam\n",
    "\n",
    "for id, linha in lista_tweets['txt_limpo'].iteritems():\n",
    " score = SentimentIntensityAnalyzer().polarity_scores(linha)\n",
    " negativo = score['neg']\n",
    " neutro = score['neu']\n",
    " positivo = score['pos']\n",
    " composto = score['compound'] #obs: 'composto' é o resultado que fica entre -1 e 1, sendo maior se mais positivo\n",
    " if negativo > positivo:\n",
    "     lista_tweets.loc[id, 'sentimento'] = 'negativo'\n",
    " elif negativo < positivo:\n",
    "     lista_tweets.loc[id, 'sentimento'] = 'positivo'\n",
    " else:\n",
    "     lista_tweets.loc[id, 'sentimento'] = 'neutro'\n",
    " lista_tweets.loc[id, 'negativo'] = negativo\n",
    " lista_tweets.loc[id, 'neutro'] = neutro\n",
    " lista_tweets.loc[id, 'positivo'] = positivo\n",
    " lista_tweets.loc[id, 'composto'] = composto"
   ]
  },
  {
   "cell_type": "code",
   "execution_count": 16,
   "id": "a432ed9c",
   "metadata": {},
   "outputs": [
    {
     "data": {
      "text/html": [
       "<div>\n",
       "<style scoped>\n",
       "    .dataframe tbody tr th:only-of-type {\n",
       "        vertical-align: middle;\n",
       "    }\n",
       "\n",
       "    .dataframe tbody tr th {\n",
       "        vertical-align: top;\n",
       "    }\n",
       "\n",
       "    .dataframe thead th {\n",
       "        text-align: right;\n",
       "    }\n",
       "</style>\n",
       "<table border=\"1\" class=\"dataframe\">\n",
       "  <thead>\n",
       "    <tr style=\"text-align: right;\">\n",
       "      <th></th>\n",
       "      <th>0</th>\n",
       "      <th>texto</th>\n",
       "      <th>txt_limpo</th>\n",
       "      <th>polaridade</th>\n",
       "      <th>subjetividade</th>\n",
       "      <th>sentimento</th>\n",
       "      <th>negativo</th>\n",
       "      <th>neutro</th>\n",
       "      <th>positivo</th>\n",
       "      <th>composto</th>\n",
       "    </tr>\n",
       "  </thead>\n",
       "  <tbody>\n",
       "    <tr>\n",
       "      <th>0</th>\n",
       "      <td>RT @VoteBlueUSA2022: Trevor Noah serving truth.\\n\\n#Pride #RoeVsWade #GunControl https://t.co/7YNYmK4MFh</td>\n",
       "      <td>RT @VoteBlueUSA2022: Trevor Noah serving truth.\\n\\n#Pride #RoeVsWade #GunControl https://t.co/7YNYmK4MFh</td>\n",
       "      <td>trevor noah serving truth\\n\\npride roevswade guncontrol httpstco7ynymk4mfh</td>\n",
       "      <td>0.0</td>\n",
       "      <td>0.000000</td>\n",
       "      <td>positivo</td>\n",
       "      <td>0.000</td>\n",
       "      <td>0.561</td>\n",
       "      <td>0.439</td>\n",
       "      <td>0.5719</td>\n",
       "    </tr>\n",
       "    <tr>\n",
       "      <th>2</th>\n",
       "      <td>RT @TheLCPR: An Honest Conversation About Red Flag Laws and Potential #Government Abuses\\n\\n#RedFlag #2A #Congress #BidenAdmin #GunControl #r…</td>\n",
       "      <td>RT @TheLCPR: An Honest Conversation About Red Flag Laws and Potential #Government Abuses\\n\\n#RedFlag #2A #Congress #BidenAdmin #GunControl #r…</td>\n",
       "      <td>an honest conversation about red flag laws and potential government abuses\\n\\nredflag 2a congress bidenadmin guncontrol r…</td>\n",
       "      <td>0.2</td>\n",
       "      <td>0.633333</td>\n",
       "      <td>negativo</td>\n",
       "      <td>0.164</td>\n",
       "      <td>0.685</td>\n",
       "      <td>0.151</td>\n",
       "      <td>-0.0772</td>\n",
       "    </tr>\n",
       "    <tr>\n",
       "      <th>7</th>\n",
       "      <td>RT @ArgonProd: An Honest Conversation About Red Flag Laws and Potential #Government Abuses\\n\\n#RedFlag #2A #Congress #BidenAdmin #GunControl…</td>\n",
       "      <td>RT @ArgonProd: An Honest Conversation About Red Flag Laws and Potential #Government Abuses\\n\\n#RedFlag #2A #Congress #BidenAdmin #GunControl…</td>\n",
       "      <td>an honest conversation about red flag laws and potential government abuses\\n\\nredflag 2a congress bidenadmin guncontrol…</td>\n",
       "      <td>0.2</td>\n",
       "      <td>0.633333</td>\n",
       "      <td>negativo</td>\n",
       "      <td>0.172</td>\n",
       "      <td>0.670</td>\n",
       "      <td>0.158</td>\n",
       "      <td>-0.0772</td>\n",
       "    </tr>\n",
       "    <tr>\n",
       "      <th>8</th>\n",
       "      <td>An Honest Conversation About Red Flag Laws and Potential #Government Abuses\\n\\n#RedFlag #2A #Congress #BidenAdmin… https://t.co/wXO4GX8iyp</td>\n",
       "      <td>An Honest Conversation About Red Flag Laws and Potential #Government Abuses\\n\\n#RedFlag #2A #Congress #BidenAdmin… https://t.co/wXO4GX8iyp</td>\n",
       "      <td>an honest conversation about red flag laws and potential government abuses\\n\\nredflag 2a congress bidenadmin… httpstcowxo4gx8iyp</td>\n",
       "      <td>0.2</td>\n",
       "      <td>0.633333</td>\n",
       "      <td>negativo</td>\n",
       "      <td>0.172</td>\n",
       "      <td>0.670</td>\n",
       "      <td>0.158</td>\n",
       "      <td>-0.0772</td>\n",
       "    </tr>\n",
       "    <tr>\n",
       "      <th>9</th>\n",
       "      <td>An Honest Conversation About Red Flag Laws and Potential #Government Abuses\\n\\n#RedFlag #2A #Congress #BidenAdmin… https://t.co/NyG5Lx1VRU</td>\n",
       "      <td>An Honest Conversation About Red Flag Laws and Potential #Government Abuses\\n\\n#RedFlag #2A #Congress #BidenAdmin… https://t.co/NyG5Lx1VRU</td>\n",
       "      <td>an honest conversation about red flag laws and potential government abuses\\n\\nredflag 2a congress bidenadmin… httpstconyg5lx1vru</td>\n",
       "      <td>0.2</td>\n",
       "      <td>0.633333</td>\n",
       "      <td>negativo</td>\n",
       "      <td>0.172</td>\n",
       "      <td>0.670</td>\n",
       "      <td>0.158</td>\n",
       "      <td>-0.0772</td>\n",
       "    </tr>\n",
       "  </tbody>\n",
       "</table>\n",
       "</div>"
      ],
      "text/plain": [
       "                                                                                                                                                0  \\\n",
       "0                                        RT @VoteBlueUSA2022: Trevor Noah serving truth.\\n\\n#Pride #RoeVsWade #GunControl https://t.co/7YNYmK4MFh   \n",
       "2  RT @TheLCPR: An Honest Conversation About Red Flag Laws and Potential #Government Abuses\\n\\n#RedFlag #2A #Congress #BidenAdmin #GunControl #r…   \n",
       "7   RT @ArgonProd: An Honest Conversation About Red Flag Laws and Potential #Government Abuses\\n\\n#RedFlag #2A #Congress #BidenAdmin #GunControl…   \n",
       "8      An Honest Conversation About Red Flag Laws and Potential #Government Abuses\\n\\n#RedFlag #2A #Congress #BidenAdmin… https://t.co/wXO4GX8iyp   \n",
       "9      An Honest Conversation About Red Flag Laws and Potential #Government Abuses\\n\\n#RedFlag #2A #Congress #BidenAdmin… https://t.co/NyG5Lx1VRU   \n",
       "\n",
       "                                                                                                                                            texto  \\\n",
       "0                                        RT @VoteBlueUSA2022: Trevor Noah serving truth.\\n\\n#Pride #RoeVsWade #GunControl https://t.co/7YNYmK4MFh   \n",
       "2  RT @TheLCPR: An Honest Conversation About Red Flag Laws and Potential #Government Abuses\\n\\n#RedFlag #2A #Congress #BidenAdmin #GunControl #r…   \n",
       "7   RT @ArgonProd: An Honest Conversation About Red Flag Laws and Potential #Government Abuses\\n\\n#RedFlag #2A #Congress #BidenAdmin #GunControl…   \n",
       "8      An Honest Conversation About Red Flag Laws and Potential #Government Abuses\\n\\n#RedFlag #2A #Congress #BidenAdmin… https://t.co/wXO4GX8iyp   \n",
       "9      An Honest Conversation About Red Flag Laws and Potential #Government Abuses\\n\\n#RedFlag #2A #Congress #BidenAdmin… https://t.co/NyG5Lx1VRU   \n",
       "\n",
       "                                                                                                                          txt_limpo  \\\n",
       "0                                                        trevor noah serving truth\\n\\npride roevswade guncontrol httpstco7ynymk4mfh   \n",
       "2        an honest conversation about red flag laws and potential government abuses\\n\\nredflag 2a congress bidenadmin guncontrol r…   \n",
       "7          an honest conversation about red flag laws and potential government abuses\\n\\nredflag 2a congress bidenadmin guncontrol…   \n",
       "8  an honest conversation about red flag laws and potential government abuses\\n\\nredflag 2a congress bidenadmin… httpstcowxo4gx8iyp   \n",
       "9  an honest conversation about red flag laws and potential government abuses\\n\\nredflag 2a congress bidenadmin… httpstconyg5lx1vru   \n",
       "\n",
       "   polaridade  subjetividade sentimento  negativo  neutro  positivo  composto  \n",
       "0         0.0       0.000000   positivo     0.000   0.561     0.439    0.5719  \n",
       "2         0.2       0.633333   negativo     0.164   0.685     0.151   -0.0772  \n",
       "7         0.2       0.633333   negativo     0.172   0.670     0.158   -0.0772  \n",
       "8         0.2       0.633333   negativo     0.172   0.670     0.158   -0.0772  \n",
       "9         0.2       0.633333   negativo     0.172   0.670     0.158   -0.0772  "
      ]
     },
     "execution_count": 16,
     "metadata": {},
     "output_type": "execute_result"
    }
   ],
   "source": [
    "lista_tweets.head()"
   ]
  },
  {
   "cell_type": "code",
   "execution_count": 17,
   "id": "f339578d",
   "metadata": {},
   "outputs": [],
   "source": [
    "# Criando uma função que calcula e cria 2 colunas: o total de tweets de um determinado sentimento e seu percentual \n",
    "def contagem_sentimento (df,variavel):\n",
    " total = df.loc[:,variavel].value_counts(dropna=False)\n",
    " porcentagem=round(df.loc[:,variavel].value_counts(dropna=False,normalize=True)*100,2)\n",
    " return pd.concat([total,porcentagem],axis=1,keys=['Total','Porcentagem'])"
   ]
  },
  {
   "cell_type": "code",
   "execution_count": 18,
   "id": "7e2f54b1",
   "metadata": {
    "scrolled": true
   },
   "outputs": [
    {
     "data": {
      "text/html": [
       "<div>\n",
       "<style scoped>\n",
       "    .dataframe tbody tr th:only-of-type {\n",
       "        vertical-align: middle;\n",
       "    }\n",
       "\n",
       "    .dataframe tbody tr th {\n",
       "        vertical-align: top;\n",
       "    }\n",
       "\n",
       "    .dataframe thead th {\n",
       "        text-align: right;\n",
       "    }\n",
       "</style>\n",
       "<table border=\"1\" class=\"dataframe\">\n",
       "  <thead>\n",
       "    <tr style=\"text-align: right;\">\n",
       "      <th></th>\n",
       "      <th>Total</th>\n",
       "      <th>Porcentagem</th>\n",
       "    </tr>\n",
       "  </thead>\n",
       "  <tbody>\n",
       "    <tr>\n",
       "      <th>negativo</th>\n",
       "      <td>3227</td>\n",
       "      <td>39.27</td>\n",
       "    </tr>\n",
       "    <tr>\n",
       "      <th>neutro</th>\n",
       "      <td>2470</td>\n",
       "      <td>30.06</td>\n",
       "    </tr>\n",
       "    <tr>\n",
       "      <th>positivo</th>\n",
       "      <td>2521</td>\n",
       "      <td>30.68</td>\n",
       "    </tr>\n",
       "  </tbody>\n",
       "</table>\n",
       "</div>"
      ],
      "text/plain": [
       "          Total  Porcentagem\n",
       "negativo   3227        39.27\n",
       "neutro     2470        30.06\n",
       "positivo   2521        30.68"
      ]
     },
     "execution_count": 18,
     "metadata": {},
     "output_type": "execute_result"
    }
   ],
   "source": [
    "# Utilizando a função\n",
    "contagem_sentimento_df = pd.DataFrame(contagem_sentimento(lista_tweets,\"sentimento\"))\n",
    "contagem_sentimento_df = contagem_sentimento_df.sort_index()\n",
    "contagem_sentimento_df"
   ]
  },
  {
   "cell_type": "code",
   "execution_count": 19,
   "id": "a3b773bc",
   "metadata": {},
   "outputs": [
    {
     "data": {
      "text/plain": [
       "3227.0"
      ]
     },
     "execution_count": 19,
     "metadata": {},
     "output_type": "execute_result"
    }
   ],
   "source": [
    "contagem_sentimento_df.iloc[0][0]"
   ]
  },
  {
   "cell_type": "code",
   "execution_count": 20,
   "id": "0b625742",
   "metadata": {},
   "outputs": [
    {
     "data": {
      "image/png": "[encoded data removed]",
      "text/plain": [
       "<Figure size 432x288 with 1 Axes>"
      ]
     },
     "metadata": {},
     "output_type": "display_data"
    }
   ],
   "source": [
    "# Visualizando o resultado em um gráfico de pizza\n",
    "\n",
    "labels = ['Positivo ['+str(contagem_sentimento_df.iloc[2][1])+'%]' , 'Neutro ['+str(contagem_sentimento_df.iloc[1][1])+'%]',\n",
    "          'Negativo ['+str(contagem_sentimento_df.iloc[0][1])+'%]']\n",
    "sizes = [contagem_sentimento_df.iloc[2][1], contagem_sentimento_df.iloc[1][1], contagem_sentimento_df.iloc[0][1]]\n",
    "colors = ['green','yellow', 'red']\n",
    "patches, texts = plt.pie(sizes,colors=colors, startangle=90)\n",
    "plt.style.use('default')\n",
    "plt.legend(labels)\n",
    "plt.title('Análise de sentimento de '+palavra+'' )\n",
    "plt.axis('equal')\n",
    "plt.show()"
   ]
  },
  {
   "cell_type": "code",
   "execution_count": 21,
   "id": "9a269c2e",
   "metadata": {},
   "outputs": [
    {
     "data": {
      "image/png": "[encoded data removed]",
      "text/plain": [
       "<Figure size 640x480 with 1 Axes>"
      ]
     },
     "metadata": {},
     "output_type": "display_data"
    }
   ],
   "source": [
    "# Comparando os positivos e os negativos ( em valores absolutos)\n",
    "\n",
    "size=[contagem_sentimento_df.iloc[2][0],contagem_sentimento_df.iloc[0][0]]\n",
    "my_circle=plt.Circle( (0,0), 0.7, color='white')\n",
    "names = [f'Positivo: {int(contagem_sentimento_df.iloc[2][0])}', f'Negativo: {int(contagem_sentimento_df.iloc[0][0])}']\n",
    "plt.pie(size, labels=names, colors=['green','red'])\n",
    "p=plt.gcf()\n",
    "p.gca().add_artist(my_circle)\n",
    "\n",
    "plt.show()"
   ]
  },
  {
   "cell_type": "code",
   "execution_count": 22,
   "id": "4d93593d",
   "metadata": {},
   "outputs": [
    {
     "data": {
      "text/html": [
       "<div>\n",
       "<style scoped>\n",
       "    .dataframe tbody tr th:only-of-type {\n",
       "        vertical-align: middle;\n",
       "    }\n",
       "\n",
       "    .dataframe tbody tr th {\n",
       "        vertical-align: top;\n",
       "    }\n",
       "\n",
       "    .dataframe thead th {\n",
       "        text-align: right;\n",
       "    }\n",
       "</style>\n",
       "<table border=\"1\" class=\"dataframe\">\n",
       "  <thead>\n",
       "    <tr style=\"text-align: right;\">\n",
       "      <th></th>\n",
       "      <th>n_palavras</th>\n",
       "    </tr>\n",
       "    <tr>\n",
       "      <th>sentimento</th>\n",
       "      <th></th>\n",
       "    </tr>\n",
       "  </thead>\n",
       "  <tbody>\n",
       "    <tr>\n",
       "      <th>negativo</th>\n",
       "      <td>18.11</td>\n",
       "    </tr>\n",
       "    <tr>\n",
       "      <th>neutro</th>\n",
       "      <td>12.94</td>\n",
       "    </tr>\n",
       "    <tr>\n",
       "      <th>positivo</th>\n",
       "      <td>18.18</td>\n",
       "    </tr>\n",
       "  </tbody>\n",
       "</table>\n",
       "</div>"
      ],
      "text/plain": [
       "            n_palavras\n",
       "sentimento            \n",
       "negativo         18.11\n",
       "neutro           12.94\n",
       "positivo         18.18"
      ]
     },
     "execution_count": 22,
     "metadata": {},
     "output_type": "execute_result"
    }
   ],
   "source": [
    "# Vamos analisar se determinado sentimento faz o usuário digitar mais ou menos palavras\n",
    "## Calculando o número médio de palavras de um tweet por sentimento\n",
    "\t\n",
    "lista_tweets['n_palavras'] = lista_tweets['txt_limpo'].apply(lambda x: len(str(x).split()))\n",
    "palavras_df = round(pd.DataFrame(lista_tweets.groupby('sentimento').n_palavras.mean()),2)\n",
    "palavras_df\n"
   ]
  },
  {
   "cell_type": "code",
   "execution_count": 23,
   "id": "2fc3eead",
   "metadata": {
    "scrolled": true
   },
   "outputs": [
    {
     "data": {
      "image/png": "[encoded data removed]",
      "text/plain": [
       "<Figure size 640x480 with 1 Axes>"
      ]
     },
     "metadata": {},
     "output_type": "display_data"
    }
   ],
   "source": [
    "# Visualizando em um barplot\n",
    "\n",
    "palavras_df2 = palavras_df.reset_index()\n",
    "palavras_df2 = palavras_df2.sort_values(by=['n_palavras'])\n",
    "height = palavras_df2.n_palavras\n",
    "bars = ('positivo', 'negativo', 'neutro')\n",
    "x_pos = palavras_df2.sentimento\n",
    "plt.bar(x_pos, height, color=['lightblue','grey','teal'])\n",
    "\n",
    "plt.show()"
   ]
  },
  {
   "cell_type": "markdown",
   "id": "c352447f",
   "metadata": {},
   "source": [
    "Estudos mostram que postagem em redes sociais que possuem senitmento envolvido são mais frequentes e geram maior engajamento. Nessa análise não foi diferente.\n"
   ]
  },
  {
   "cell_type": "code",
   "execution_count": 24,
   "id": "cc4b66cd",
   "metadata": {},
   "outputs": [
    {
     "name": "stdout",
     "output_type": "stream",
     "text": [
      "número de tweets:8218 \n",
      "quantidade de palavras:19878 \n",
      "média de palavras por tweet: 2.42\n"
     ]
    }
   ],
   "source": [
    "# Descobrinndo a quantidade de palavras com CountVectorizer\n",
    "## CountVectorizer transforma o texto em uma matriz esparsa, contando a frequência de cada palavra em um conjunto de textos.\n",
    "\n",
    "countVectorizer = CountVectorizer() \n",
    "countVector = countVectorizer.fit_transform(lista_tweets['txt_limpo'])\n",
    "med = countVector.shape[1] / countVector.shape[0]\n",
    "print(f'número de tweets:{countVector.shape[0]} \\nquantidade de palavras:{countVector.shape[1]} \\nmédia de palavras por tweet: {round(med,2)}')"
   ]
  },
  {
   "cell_type": "markdown",
   "id": "71caf5b9",
   "metadata": {},
   "source": [
    "# Analizando as palavras utilizadas nos tweets"
   ]
  },
  {
   "cell_type": "markdown",
   "id": "2737ed47",
   "metadata": {},
   "source": [
    "###  Fazendo nova limpeza nos textos"
   ]
  },
  {
   "cell_type": "code",
   "execution_count": 25,
   "id": "5038d128",
   "metadata": {},
   "outputs": [
    {
     "data": {
      "text/plain": [
       "0                                                               [, trevor, noah, serving, truth, pride, roevswade, guncontrol, httpstco7ynymk4mfh]\n",
       "2     [, an, honest, conversation, about, red, flag, laws, and, potential, government, abuses, redflag, 2a, congress, bidenadmin, guncontrol, r, ]\n",
       "7        [, an, honest, conversation, about, red, flag, laws, and, potential, government, abuses, redflag, 2a, congress, bidenadmin, guncontrol, ]\n",
       "8    [an, honest, conversation, about, red, flag, laws, and, potential, government, abuses, redflag, 2a, congress, bidenadmin, httpstcowxo4gx8iyp]\n",
       "9    [an, honest, conversation, about, red, flag, laws, and, potential, government, abuses, redflag, 2a, congress, bidenadmin, httpstconyg5lx1vru]\n",
       "Name: txt_token, dtype: object"
      ]
     },
     "execution_count": 25,
     "metadata": {},
     "output_type": "execute_result"
    }
   ],
   "source": [
    "# Realizando tokenização, separando o texto por palavras(caracteres não alfanuméricos) \n",
    "def tokeniza(text):\n",
    "    text = re.split('\\W+', text)\n",
    "    return text\n",
    "\n",
    "lista_tweets['txt_token'] = lista_tweets['txt_limpo'].apply(lambda x: tokeniza(x.lower()))\n",
    "lista_tweets.txt_token.head(5)"
   ]
  },
  {
   "cell_type": "code",
   "execution_count": 26,
   "id": "273790b2",
   "metadata": {},
   "outputs": [
    {
     "data": {
      "text/plain": [
       "0                                               [, trevor, noah, serving, truth, pride, roevswade, guncontrol, httpstco7ynymk4mfh]\n",
       "2     [, honest, conversation, red, flag, laws, potential, government, abuses, redflag, 2a, congress, bidenadmin, guncontrol, r, ]\n",
       "7        [, honest, conversation, red, flag, laws, potential, government, abuses, redflag, 2a, congress, bidenadmin, guncontrol, ]\n",
       "8    [honest, conversation, red, flag, laws, potential, government, abuses, redflag, 2a, congress, bidenadmin, httpstcowxo4gx8iyp]\n",
       "9    [honest, conversation, red, flag, laws, potential, government, abuses, redflag, 2a, congress, bidenadmin, httpstconyg5lx1vru]\n",
       "Name: txt_no_stopword, dtype: object"
      ]
     },
     "execution_count": 26,
     "metadata": {},
     "output_type": "execute_result"
    }
   ],
   "source": [
    "# Removendo stopwords\n",
    "## stop words são palavras com significados \"irrelevantes\" para uma análise de sentimentos, assim serão retiradas do nosso processo de análise\n",
    "stopword = nltk.corpus.stopwords.words('english') # em ingês pois é a lingua com maioria de tweets sobre o tema\n",
    "\n",
    "def remove_stopwords(text):\n",
    "    text = [word for word in text if word not in stopword]\n",
    "    return text\n",
    "\n",
    "lista_tweets['txt_no_stopword'] = lista_tweets['txt_token'].apply(lambda x: remove_stopwords(x))\n",
    "lista_tweets.txt_no_stopword.head(5)"
   ]
  },
  {
   "cell_type": "code",
   "execution_count": 27,
   "id": "699b814e",
   "metadata": {},
   "outputs": [
    {
     "data": {
      "text/plain": [
       "0                                     [, trevor, noah, serv, truth, pride, roevswad, guncontrol, httpstco7ynymk4mfh]\n",
       "2     [, honest, convers, red, flag, law, potenti, govern, abus, redflag, 2a, congress, bidenadmin, guncontrol, r, ]\n",
       "7        [, honest, convers, red, flag, law, potenti, govern, abus, redflag, 2a, congress, bidenadmin, guncontrol, ]\n",
       "8    [honest, convers, red, flag, law, potenti, govern, abus, redflag, 2a, congress, bidenadmin, httpstcowxo4gx8iyp]\n",
       "9    [honest, convers, red, flag, law, potenti, govern, abus, redflag, 2a, congress, bidenadmin, httpstconyg5lx1vru]\n",
       "Name: txt_stem, dtype: object"
      ]
     },
     "execution_count": 27,
     "metadata": {},
     "output_type": "execute_result"
    }
   ],
   "source": [
    "# Aplicando Stemização (reduzir palavras flexionadas/derivadas para sua raíz)\n",
    "\n",
    "def stemming(text):\n",
    "    text = [nltk.PorterStemmer().stem(word) for word in text]\n",
    "    return text\n",
    "\n",
    "lista_tweets['txt_stem'] = lista_tweets['txt_no_stopword'].apply(lambda x: stemming(x))\n",
    "lista_tweets.txt_stem.head(5)"
   ]
  },
  {
   "cell_type": "code",
   "execution_count": 28,
   "id": "a513b416",
   "metadata": {},
   "outputs": [
    {
     "data": {
      "text/plain": [
       "0                                  trevor noah serv truth pride roevswad guncontrol httpstco7ynymk4mfh\n",
       "2          honest convers red flag law potenti govern abus redflag 2a congress bidenadmin guncontrol r\n",
       "7            honest convers red flag law potenti govern abus redflag 2a congress bidenadmin guncontrol\n",
       "8    honest convers red flag law potenti govern abus redflag 2a congress bidenadmin httpstcowxo4gx8iyp\n",
       "9    honest convers red flag law potenti govern abus redflag 2a congress bidenadmin httpstconyg5lx1vru\n",
       "Name: txt_final, dtype: object"
      ]
     },
     "execution_count": 28,
     "metadata": {},
     "output_type": "execute_result"
    }
   ],
   "source": [
    "# Convertendo o o campo tokenizado em frases denovo\n",
    "from nltk.tokenize.treebank import TreebankWordDetokenizer\n",
    "def destokeniza(text): \n",
    "    text = TreebankWordDetokenizer().detokenize(text)\n",
    "    return text\n",
    "lista_tweets['txt_final'] = lista_tweets['txt_stem'].apply(lambda x: destokeniza(x))\n",
    "lista_tweets.txt_final.head(5)"
   ]
  },
  {
   "cell_type": "code",
   "execution_count": 29,
   "id": "147d2d04",
   "metadata": {},
   "outputs": [
    {
     "data": {
      "text/html": [
       "<div>\n",
       "<style scoped>\n",
       "    .dataframe tbody tr th:only-of-type {\n",
       "        vertical-align: middle;\n",
       "    }\n",
       "\n",
       "    .dataframe tbody tr th {\n",
       "        vertical-align: top;\n",
       "    }\n",
       "\n",
       "    .dataframe thead th {\n",
       "        text-align: right;\n",
       "    }\n",
       "</style>\n",
       "<table border=\"1\" class=\"dataframe\">\n",
       "  <thead>\n",
       "    <tr style=\"text-align: right;\">\n",
       "      <th></th>\n",
       "      <th>11</th>\n",
       "      <th>111</th>\n",
       "      <th>111word</th>\n",
       "      <th>112</th>\n",
       "      <th>113</th>\n",
       "      <th>114</th>\n",
       "      <th>11th</th>\n",
       "      <th>11yr</th>\n",
       "      <th>12</th>\n",
       "      <th>122</th>\n",
       "      <th>...</th>\n",
       "      <th>𝐬𝐨𝐦𝐞𝐨𝐧𝐞</th>\n",
       "      <th>𝐭𝐚𝐜𝐤𝐥𝐞</th>\n",
       "      <th>𝐭𝐚𝐤𝐞𝐬</th>\n",
       "      <th>𝐭𝐚𝐥𝐤</th>\n",
       "      <th>𝐭𝐞𝐥𝐥𝐬</th>\n",
       "      <th>𝐭𝐡𝐚𝐭</th>\n",
       "      <th>𝐭𝐡𝐞</th>\n",
       "      <th>𝐭𝐢𝐦𝐞</th>\n",
       "      <th>𝐭𝐨</th>\n",
       "      <th>𝐰𝐢𝐭𝐡</th>\n",
       "    </tr>\n",
       "  </thead>\n",
       "  <tbody>\n",
       "    <tr>\n",
       "      <th>0</th>\n",
       "      <td>0</td>\n",
       "      <td>0</td>\n",
       "      <td>0</td>\n",
       "      <td>0</td>\n",
       "      <td>0</td>\n",
       "      <td>0</td>\n",
       "      <td>0</td>\n",
       "      <td>0</td>\n",
       "      <td>0</td>\n",
       "      <td>0</td>\n",
       "      <td>...</td>\n",
       "      <td>0</td>\n",
       "      <td>0</td>\n",
       "      <td>0</td>\n",
       "      <td>0</td>\n",
       "      <td>0</td>\n",
       "      <td>0</td>\n",
       "      <td>0</td>\n",
       "      <td>0</td>\n",
       "      <td>0</td>\n",
       "      <td>0</td>\n",
       "    </tr>\n",
       "    <tr>\n",
       "      <th>1</th>\n",
       "      <td>0</td>\n",
       "      <td>0</td>\n",
       "      <td>0</td>\n",
       "      <td>0</td>\n",
       "      <td>0</td>\n",
       "      <td>0</td>\n",
       "      <td>0</td>\n",
       "      <td>0</td>\n",
       "      <td>0</td>\n",
       "      <td>0</td>\n",
       "      <td>...</td>\n",
       "      <td>0</td>\n",
       "      <td>0</td>\n",
       "      <td>0</td>\n",
       "      <td>0</td>\n",
       "      <td>0</td>\n",
       "      <td>0</td>\n",
       "      <td>0</td>\n",
       "      <td>0</td>\n",
       "      <td>0</td>\n",
       "      <td>0</td>\n",
       "    </tr>\n",
       "    <tr>\n",
       "      <th>2</th>\n",
       "      <td>0</td>\n",
       "      <td>0</td>\n",
       "      <td>0</td>\n",
       "      <td>0</td>\n",
       "      <td>0</td>\n",
       "      <td>0</td>\n",
       "      <td>0</td>\n",
       "      <td>0</td>\n",
       "      <td>0</td>\n",
       "      <td>0</td>\n",
       "      <td>...</td>\n",
       "      <td>0</td>\n",
       "      <td>0</td>\n",
       "      <td>0</td>\n",
       "      <td>0</td>\n",
       "      <td>0</td>\n",
       "      <td>0</td>\n",
       "      <td>0</td>\n",
       "      <td>0</td>\n",
       "      <td>0</td>\n",
       "      <td>0</td>\n",
       "    </tr>\n",
       "    <tr>\n",
       "      <th>3</th>\n",
       "      <td>0</td>\n",
       "      <td>0</td>\n",
       "      <td>0</td>\n",
       "      <td>0</td>\n",
       "      <td>0</td>\n",
       "      <td>0</td>\n",
       "      <td>0</td>\n",
       "      <td>0</td>\n",
       "      <td>0</td>\n",
       "      <td>0</td>\n",
       "      <td>...</td>\n",
       "      <td>0</td>\n",
       "      <td>0</td>\n",
       "      <td>0</td>\n",
       "      <td>0</td>\n",
       "      <td>0</td>\n",
       "      <td>0</td>\n",
       "      <td>0</td>\n",
       "      <td>0</td>\n",
       "      <td>0</td>\n",
       "      <td>0</td>\n",
       "    </tr>\n",
       "    <tr>\n",
       "      <th>4</th>\n",
       "      <td>0</td>\n",
       "      <td>0</td>\n",
       "      <td>0</td>\n",
       "      <td>0</td>\n",
       "      <td>0</td>\n",
       "      <td>0</td>\n",
       "      <td>0</td>\n",
       "      <td>0</td>\n",
       "      <td>0</td>\n",
       "      <td>0</td>\n",
       "      <td>...</td>\n",
       "      <td>0</td>\n",
       "      <td>0</td>\n",
       "      <td>0</td>\n",
       "      <td>0</td>\n",
       "      <td>0</td>\n",
       "      <td>0</td>\n",
       "      <td>0</td>\n",
       "      <td>0</td>\n",
       "      <td>0</td>\n",
       "      <td>0</td>\n",
       "    </tr>\n",
       "  </tbody>\n",
       "</table>\n",
       "<p>5 rows × 17304 columns</p>\n",
       "</div>"
      ],
      "text/plain": [
       "   11  111  111word  112  113  114  11th  11yr  12  122  ...  𝐬𝐨𝐦𝐞𝐨𝐧𝐞  𝐭𝐚𝐜𝐤𝐥𝐞  \\\n",
       "0   0    0        0    0    0    0     0     0   0    0  ...        0       0   \n",
       "1   0    0        0    0    0    0     0     0   0    0  ...        0       0   \n",
       "2   0    0        0    0    0    0     0     0   0    0  ...        0       0   \n",
       "3   0    0        0    0    0    0     0     0   0    0  ...        0       0   \n",
       "4   0    0        0    0    0    0     0     0   0    0  ...        0       0   \n",
       "\n",
       "   𝐭𝐚𝐤𝐞𝐬  𝐭𝐚𝐥𝐤  𝐭𝐞𝐥𝐥𝐬  𝐭𝐡𝐚𝐭  𝐭𝐡𝐞  𝐭𝐢𝐦𝐞  𝐭𝐨  𝐰𝐢𝐭𝐡  \n",
       "0      0     0      0     0    0     0   0     0  \n",
       "1      0     0      0     0    0     0   0     0  \n",
       "2      0     0      0     0    0     0   0     0  \n",
       "3      0     0      0     0    0     0   0     0  \n",
       "4      0     0      0     0    0     0   0     0  \n",
       "\n",
       "[5 rows x 17304 columns]"
      ]
     },
     "execution_count": 29,
     "metadata": {},
     "output_type": "execute_result"
    }
   ],
   "source": [
    "# Criando um data frame com o resultado da limpeza de texto\n",
    "countVector = countVectorizer.fit_transform(lista_tweets['txt_final'])\n",
    "count_vect_df = pd.DataFrame(countVector.toarray(), columns=countVectorizer.get_feature_names())\n",
    "count_vect_df.head()"
   ]
  },
  {
   "cell_type": "code",
   "execution_count": 30,
   "id": "8174fbda",
   "metadata": {},
   "outputs": [
    {
     "data": {
      "text/html": [
       "<div>\n",
       "<style scoped>\n",
       "    .dataframe tbody tr th:only-of-type {\n",
       "        vertical-align: middle;\n",
       "    }\n",
       "\n",
       "    .dataframe tbody tr th {\n",
       "        vertical-align: top;\n",
       "    }\n",
       "\n",
       "    .dataframe thead th {\n",
       "        text-align: right;\n",
       "    }\n",
       "</style>\n",
       "<table border=\"1\" class=\"dataframe\">\n",
       "  <thead>\n",
       "    <tr style=\"text-align: right;\">\n",
       "      <th></th>\n",
       "      <th>palavra</th>\n",
       "      <th>frequencia</th>\n",
       "    </tr>\n",
       "  </thead>\n",
       "  <tbody>\n",
       "    <tr>\n",
       "      <th>1</th>\n",
       "      <td>gun</td>\n",
       "      <td>2270</td>\n",
       "    </tr>\n",
       "    <tr>\n",
       "      <th>2</th>\n",
       "      <td>law</td>\n",
       "      <td>707</td>\n",
       "    </tr>\n",
       "    <tr>\n",
       "      <th>3</th>\n",
       "      <td>right</td>\n",
       "      <td>684</td>\n",
       "    </tr>\n",
       "    <tr>\n",
       "      <th>4</th>\n",
       "      <td>scotu</td>\n",
       "      <td>609</td>\n",
       "    </tr>\n",
       "    <tr>\n",
       "      <th>5</th>\n",
       "      <td>us</td>\n",
       "      <td>553</td>\n",
       "    </tr>\n",
       "    <tr>\n",
       "      <th>6</th>\n",
       "      <td>control</td>\n",
       "      <td>549</td>\n",
       "    </tr>\n",
       "    <tr>\n",
       "      <th>7</th>\n",
       "      <td>roevswad</td>\n",
       "      <td>525</td>\n",
       "    </tr>\n",
       "    <tr>\n",
       "      <th>8</th>\n",
       "      <td>court</td>\n",
       "      <td>427</td>\n",
       "    </tr>\n",
       "    <tr>\n",
       "      <th>9</th>\n",
       "      <td>bill</td>\n",
       "      <td>423</td>\n",
       "    </tr>\n",
       "    <tr>\n",
       "      <th>10</th>\n",
       "      <td>peopl</td>\n",
       "      <td>419</td>\n",
       "    </tr>\n",
       "  </tbody>\n",
       "</table>\n",
       "</div>"
      ],
      "text/plain": [
       "     palavra  frequencia\n",
       "1        gun        2270\n",
       "2        law         707\n",
       "3      right         684\n",
       "4      scotu         609\n",
       "5         us         553\n",
       "6    control         549\n",
       "7   roevswad         525\n",
       "8      court         427\n",
       "9       bill         423\n",
       "10     peopl         419"
      ]
     },
     "execution_count": 30,
     "metadata": {},
     "output_type": "execute_result"
    }
   ],
   "source": [
    "# Colocando o dataFrame em ordem decrescente para melhor visualização\n",
    "count = pd.DataFrame(count_vect_df.sum())\n",
    "countdf = count.sort_values(0,ascending=False).head(20)\n",
    "countdf = countdf.reset_index()\n",
    "countdf.columns = ['palavra', 'frequencia']\n",
    "countdf[1:11] # A primeira palavra é justamente a analisada, logo vou ignora-lá\n",
    "\n"
   ]
  },
  {
   "cell_type": "code",
   "execution_count": 31,
   "id": "1988e2e7",
   "metadata": {
    "scrolled": true
   },
   "outputs": [
    {
     "data": {
      "image/png": "[encoded data removed]",
      "text/plain": [
       "<Figure size 2000x1000 with 1 Axes>"
      ]
     },
     "metadata": {},
     "output_type": "display_data"
    }
   ],
   "source": [
    "# Visualizando o resultado acima em um gráfico:\n",
    "\n",
    "plot_df = countdf[1:52]\n",
    "plot_df = plot_df.sort_values(by=['frequencia'])\n",
    "\n",
    "plt.figure(figsize=(20,10))\n",
    "ax = plt.subplot(111, polar=True)\n",
    "plt.axis('off')\n",
    "\n",
    "\n",
    "upperLimit = 100\n",
    "lowerLimit = 30\n",
    "labelPadding = 4\n",
    "\n",
    "\n",
    "max = plot_df['frequencia'].max()\n",
    "\n",
    "slope = (max - lowerLimit) / max\n",
    "heights = slope * plot_df['frequencia'] + lowerLimit\n",
    "\n",
    "\n",
    "width = 2*np.pi / len(plot_df['frequencia'])\n",
    "\n",
    "indexes = list(range(1, len(plot_df['frequencia'])+1))\n",
    "angles = [element * width for element in indexes]\n",
    "angles\n",
    "\n",
    "\n",
    "bars = ax.bar(\n",
    "    x=angles, \n",
    "    height=heights, \n",
    "    width=width, \n",
    "    bottom=lowerLimit,\n",
    "    linewidth=2, \n",
    "    edgecolor=\"white\",\n",
    "    color=\"#61a4b2\",\n",
    ")\n",
    "\n",
    "for bar, angle, height, label in zip(bars,angles, heights, plot_df['palavra']):\n",
    "\n",
    "    \n",
    "    rotation = np.rad2deg(angle)\n",
    "    alignment = \"\"\n",
    "    if angle >= np.pi/2 and angle < 3*np.pi/2:\n",
    "        alignment = \"right\"\n",
    "        rotation = rotation + 180\n",
    "    else: \n",
    "        alignment = \"left\"\n",
    "\n",
    "    \n",
    "    ax.text(\n",
    "        x=angle, \n",
    "        y=lowerLimit + bar.get_height() + labelPadding, \n",
    "        s=label, \n",
    "        ha=alignment, \n",
    "        va='center', \n",
    "        rotation=rotation, \n",
    "        rotation_mode=\"anchor\") "
   ]
  },
  {
   "cell_type": "markdown",
   "id": "438b7cc0",
   "metadata": {},
   "source": [
    "# Utilizando n-gram para descobrir quais palavras são usadas em conjunto\n",
    "OBS:Um modelo de n -gram é um tipo de modelo de linguagem probabilístico para prever o próximo item em tal sequência na forma de um modelo de Markov d."
   ]
  },
  {
   "cell_type": "code",
   "execution_count": 32,
   "id": "96caf004",
   "metadata": {},
   "outputs": [],
   "source": [
    "## Função n-gram \n",
    "\n",
    "def get_top_n_gram(corpus,ngram_range,n=None):\n",
    " vec = CountVectorizer(ngram_range=ngram_range,stop_words = 'english').fit(corpus)\n",
    " bag_of_words = vec.transform(corpus)\n",
    " sum_words = bag_of_words.sum(axis=0) \n",
    " words_freq = [(word, sum_words[0, idx]) for word, idx in vec.vocabulary_.items()]\n",
    " words_freq =sorted(words_freq, key = lambda x: x[1], reverse=True)\n",
    " return words_freq[:n]"
   ]
  },
  {
   "cell_type": "code",
   "execution_count": 33,
   "id": "cd2cd49e",
   "metadata": {
    "scrolled": true
   },
   "outputs": [
    {
     "data": {
      "text/plain": [
       "[('gun control', 457),\n",
       " ('suprem court', 365),\n",
       " ('roevswad guncontrol', 223),\n",
       " ('red flag', 155),\n",
       " ('flag law', 134),\n",
       " ('guncontrol law', 111),\n",
       " ('gun law', 107),\n",
       " ('gun violenc', 106),\n",
       " ('guncontrol prochoic', 105),\n",
       " ('time coalit', 105),\n",
       " ('mass shoot', 103),\n",
       " ('prochoic lbgtq', 102),\n",
       " ('coalit build', 102),\n",
       " ('gun guncontrol', 100),\n",
       " ('new york', 99),\n",
       " ('voteblue222 guncontrol', 99),\n",
       " ('build voteblue222', 97),\n",
       " ('lbgtq genz', 97),\n",
       " ('genz stake', 97),\n",
       " ('stake th', 96)]"
      ]
     },
     "execution_count": 33,
     "metadata": {},
     "output_type": "execute_result"
    }
   ],
   "source": [
    "#Econtrando 'bigram', que são palavras(duas) que mais aparecem juntas nos tweets\n",
    "\n",
    "n2_bigrams = get_top_n_gram(lista_tweets['txt_final'],(2,2),20)\n",
    "n2_bigrams"
   ]
  },
  {
   "cell_type": "code",
   "execution_count": 34,
   "id": "3fd55bbe",
   "metadata": {
    "scrolled": false
   },
   "outputs": [
    {
     "data": {
      "image/png": "[encoded data removed]",
      "text/plain": [
       "<Figure size 640x480 with 1 Axes>"
      ]
     },
     "metadata": {},
     "output_type": "display_data"
    }
   ],
   "source": [
    "# Plotando o resultado\n",
    "a = np.array(n2_bigrams)\n",
    "x = list(reversed(a[:,1]))\n",
    "y = list(reversed(a[:,0]))\n",
    "plt.barh(y=y, width=x, color = 'darkblue');\n",
    "plt.title('Gráfico bigrams' )\n",
    "plt.show()"
   ]
  },
  {
   "cell_type": "code",
   "execution_count": 35,
   "id": "e8742bc4",
   "metadata": {
    "scrolled": true
   },
   "outputs": [
    {
     "data": {
      "text/plain": [
       "[('red flag law', 134),\n",
       " ('time coalit build', 101),\n",
       " ('guncontrol prochoic lbgtq', 101),\n",
       " ('coalit build voteblue222', 97),\n",
       " ('build voteblue222 guncontrol', 97),\n",
       " ('voteblue222 guncontrol prochoic', 97),\n",
       " ('prochoic lbgtq genz', 97),\n",
       " ('lbgtq genz stake', 97),\n",
       " ('genz stake th', 96),\n",
       " ('flag law potenti', 69),\n",
       " ('law potenti govern', 69),\n",
       " ('potenti govern abus', 69),\n",
       " ('redflag 2a congress', 61),\n",
       " ('honest convers red', 55),\n",
       " ('convers red flag', 55),\n",
       " ('govern abus redflag', 49),\n",
       " ('abus redflag 2a', 49),\n",
       " ('june 28 tomsuozzi', 45),\n",
       " ('28 tomsuozzi ny', 45),\n",
       " ('tomsuozzi ny democrat', 44)]"
      ]
     },
     "execution_count": 35,
     "metadata": {},
     "output_type": "execute_result"
    }
   ],
   "source": [
    "# Criando o objeto n3_trigram, que mostra as três palavras mais propensas a estarem juntas no nosso conjunto de tweets  \n",
    "n3_trigrams = get_top_n_gram(lista_tweets['txt_final'],(3,3),20)\n",
    "n3_trigrams\n"
   ]
  },
  {
   "cell_type": "code",
   "execution_count": 36,
   "id": "5f4031ac",
   "metadata": {},
   "outputs": [
    {
     "data": {
      "image/png": "[encoded data removed]",
      "text/plain": [
       "<Figure size 640x480 with 1 Axes>"
      ]
     },
     "metadata": {},
     "output_type": "display_data"
    }
   ],
   "source": [
    "# Plotando o resultado\n",
    "a2 = np.array(n3_trigrams)\n",
    "x2 = list(reversed(a2[:,1]))\n",
    "y2 = list(reversed(a2[:,0]))\n",
    "plt.barh(y=y2, width=x2, color = 'darkblue');\n",
    "plt.title('Gráfico trigrams' )\n",
    "plt.show()"
   ]
  },
  {
   "cell_type": "markdown",
   "id": "dc34f817",
   "metadata": {},
   "source": [
    "### Terminamos assim a análise de sentimento!\n",
    "\n",
    "Dúvidas, sugestões e críticas: entre em contato!   :)\n",
    "e-mail: pabloaguiar92@hotmail.com linkedin: https://www.linkedin.com/in/pablo-aguiar-raposo-71b6b5139/ \n",
    "github: https://github.com/Pablo-aguiarr"
   ]
  }
 ],
 "metadata": {
  "kernelspec": {
   "display_name": "Python 3 (ipykernel)",
   "language": "python",
   "name": "python3"
  },
  "language_info": {
   "codemirror_mode": {
    "name": "ipython",
    "version": 3
   },
   "file_extension": ".py",
   "mimetype": "text/x-python",
   "name": "python",
   "nbconvert_exporter": "python",
   "pygments_lexer": "ipython3",
   "version": "3.9.12"
  }
 },
 "nbformat": 4,
 "nbformat_minor": 5
}
